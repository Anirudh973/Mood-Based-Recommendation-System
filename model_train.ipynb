{
 "cells": [
  {
   "cell_type": "code",
   "execution_count": 2,
   "id": "e2781335",
   "metadata": {},
   "outputs": [
    {
     "name": "stdout",
     "output_type": "stream",
     "text": [
      "Model: \"sequential\"\n",
      "_________________________________________________________________\n",
      " Layer (type)                Output Shape              Param #   \n",
      "=================================================================\n",
      " conv2d (Conv2D)             (None, 46, 46, 32)        320       \n",
      "                                                                 \n",
      " max_pooling2d (MaxPooling2D  (None, 23, 23, 32)       0         \n",
      " )                                                               \n",
      "                                                                 \n",
      " dropout (Dropout)           (None, 23, 23, 32)        0         \n",
      "                                                                 \n",
      " conv2d_1 (Conv2D)           (None, 21, 21, 64)        18496     \n",
      "                                                                 \n",
      " max_pooling2d_1 (MaxPooling  (None, 10, 10, 64)       0         \n",
      " 2D)                                                             \n",
      "                                                                 \n",
      " dropout_1 (Dropout)         (None, 10, 10, 64)        0         \n",
      "                                                                 \n",
      " conv2d_2 (Conv2D)           (None, 8, 8, 128)         73856     \n",
      "                                                                 \n",
      " max_pooling2d_2 (MaxPooling  (None, 4, 4, 128)        0         \n",
      " 2D)                                                             \n",
      "                                                                 \n",
      " dropout_2 (Dropout)         (None, 4, 4, 128)         0         \n",
      "                                                                 \n",
      " flatten (Flatten)           (None, 2048)              0         \n",
      "                                                                 \n",
      " dense (Dense)               (None, 256)               524544    \n",
      "                                                                 \n",
      " dropout_3 (Dropout)         (None, 256)               0         \n",
      "                                                                 \n",
      " dense_1 (Dense)             (None, 7)                 1799      \n",
      "                                                                 \n",
      "=================================================================\n",
      "Total params: 619,015\n",
      "Trainable params: 619,015\n",
      "Non-trainable params: 0\n",
      "_________________________________________________________________\n"
     ]
    }
   ],
   "source": [
    "from tensorflow.keras.models import Sequential\n",
    "from tensorflow.keras.layers import Conv2D, MaxPooling2D, Flatten, Dense, Dropout\n",
    "\n",
    "# Build the CNN model\n",
    "model = Sequential()\n",
    "\n",
    "# Layer 1: Convolutional layer\n",
    "model.add(Conv2D(32, (3, 3), activation='relu', input_shape=(48, 48, 1)))\n",
    "model.add(MaxPooling2D((2, 2)))\n",
    "model.add(Dropout(0.25))\n",
    "\n",
    "# Layer 2: Convolutional layer\n",
    "model.add(Conv2D(64, (3, 3), activation='relu'))\n",
    "model.add(MaxPooling2D((2, 2)))\n",
    "model.add(Dropout(0.25))\n",
    "\n",
    "# Layer 3: Convolutional layer\n",
    "model.add(Conv2D(128, (3, 3), activation='relu'))\n",
    "model.add(MaxPooling2D((2, 2)))\n",
    "model.add(Dropout(0.4))\n",
    "\n",
    "# Flatten the output\n",
    "model.add(Flatten())\n",
    "\n",
    "# Fully connected layer\n",
    "model.add(Dense(256, activation='relu'))\n",
    "model.add(Dropout(0.5))\n",
    "\n",
    "# Output layer (7 emotions)\n",
    "model.add(Dense(7, activation='softmax'))\n",
    "\n",
    "# Compile the model\n",
    "model.compile(optimizer='adam', loss='categorical_crossentropy', metrics=['accuracy'])\n",
    "\n",
    "# Print the model summary\n",
    "model.summary()\n"
   ]
  },
  {
   "cell_type": "code",
   "execution_count": 3,
   "id": "a72083af",
   "metadata": {},
   "outputs": [
    {
     "name": "stdout",
     "output_type": "stream",
     "text": [
      "Found 28709 images belonging to 7 classes.\n",
      "Found 7178 images belonging to 7 classes.\n"
     ]
    }
   ],
   "source": [
    "from tensorflow.keras.preprocessing.image import ImageDataGenerator\n",
    "\n",
    "# Define directories\n",
    "train_dir = 'archive (2)/train'\n",
    "test_dir = 'archive (2)/test'\n",
    "\n",
    "# Normalize and load data using ImageDataGenerator\n",
    "train_datagen = ImageDataGenerator(rescale=1./255)  # Normalize pixel values (0-1)\n",
    "test_datagen = ImageDataGenerator(rescale=1./255)\n",
    "\n",
    "# Create train and test generators\n",
    "train_generator = train_datagen.flow_from_directory(\n",
    "    train_dir,\n",
    "    target_size=(48, 48),  # Images resized to 48x48 pixels\n",
    "    batch_size=64,\n",
    "    class_mode='categorical',\n",
    "    color_mode='grayscale'  # Grayscale images\n",
    ")\n",
    "\n",
    "test_generator = test_datagen.flow_from_directory(\n",
    "    test_dir,\n",
    "    target_size=(48, 48),\n",
    "    batch_size=64,\n",
    "    class_mode='categorical',\n",
    "    color_mode='grayscale'\n",
    ")\n"
   ]
  },
  {
   "cell_type": "code",
   "execution_count": 4,
   "id": "fd12f90b",
   "metadata": {
    "scrolled": true
   },
   "outputs": [
    {
     "name": "stdout",
     "output_type": "stream",
     "text": [
      "Epoch 1/25\n",
      "449/449 [==============================] - 366s 809ms/step - loss: 1.7704 - accuracy: 0.2754 - val_loss: 1.6455 - val_accuracy: 0.3703\n",
      "Epoch 2/25\n",
      "449/449 [==============================] - 90s 201ms/step - loss: 1.5811 - accuracy: 0.3820 - val_loss: 1.4599 - val_accuracy: 0.4469\n",
      "Epoch 3/25\n",
      "449/449 [==============================] - 78s 173ms/step - loss: 1.4624 - accuracy: 0.4340 - val_loss: 1.3544 - val_accuracy: 0.4822\n",
      "Epoch 4/25\n",
      "449/449 [==============================] - 73s 162ms/step - loss: 1.3969 - accuracy: 0.4611 - val_loss: 1.3232 - val_accuracy: 0.4886\n",
      "Epoch 5/25\n",
      "449/449 [==============================] - 76s 168ms/step - loss: 1.3494 - accuracy: 0.4807 - val_loss: 1.2783 - val_accuracy: 0.5100\n",
      "Epoch 6/25\n",
      "449/449 [==============================] - 75s 168ms/step - loss: 1.3119 - accuracy: 0.5007 - val_loss: 1.2433 - val_accuracy: 0.5128\n",
      "Epoch 7/25\n",
      "449/449 [==============================] - 76s 168ms/step - loss: 1.2802 - accuracy: 0.5149 - val_loss: 1.2132 - val_accuracy: 0.5355\n",
      "Epoch 8/25\n",
      "449/449 [==============================] - 74s 165ms/step - loss: 1.2552 - accuracy: 0.5228 - val_loss: 1.2128 - val_accuracy: 0.5354\n",
      "Epoch 9/25\n",
      "449/449 [==============================] - 74s 165ms/step - loss: 1.2385 - accuracy: 0.5290 - val_loss: 1.1758 - val_accuracy: 0.5520\n",
      "Epoch 10/25\n",
      "449/449 [==============================] - 76s 170ms/step - loss: 1.2205 - accuracy: 0.5366 - val_loss: 1.1612 - val_accuracy: 0.5563\n",
      "Epoch 11/25\n",
      "449/449 [==============================] - 75s 167ms/step - loss: 1.2002 - accuracy: 0.5440 - val_loss: 1.1463 - val_accuracy: 0.5635\n",
      "Epoch 12/25\n",
      "449/449 [==============================] - 75s 167ms/step - loss: 1.1820 - accuracy: 0.5530 - val_loss: 1.1407 - val_accuracy: 0.5681\n",
      "Epoch 13/25\n",
      "449/449 [==============================] - 72s 160ms/step - loss: 1.1660 - accuracy: 0.5606 - val_loss: 1.1566 - val_accuracy: 0.5678\n",
      "Epoch 14/25\n",
      "449/449 [==============================] - 68s 151ms/step - loss: 1.1590 - accuracy: 0.5587 - val_loss: 1.1244 - val_accuracy: 0.5754\n",
      "Epoch 15/25\n",
      "449/449 [==============================] - 68s 151ms/step - loss: 1.1454 - accuracy: 0.5621 - val_loss: 1.1208 - val_accuracy: 0.5843\n",
      "Epoch 16/25\n",
      "449/449 [==============================] - 68s 152ms/step - loss: 1.1295 - accuracy: 0.5741 - val_loss: 1.1138 - val_accuracy: 0.5823\n",
      "Epoch 17/25\n",
      "449/449 [==============================] - 67s 150ms/step - loss: 1.1243 - accuracy: 0.5731 - val_loss: 1.1038 - val_accuracy: 0.5883\n",
      "Epoch 18/25\n",
      "449/449 [==============================] - 67s 150ms/step - loss: 1.1155 - accuracy: 0.5779 - val_loss: 1.1014 - val_accuracy: 0.5798\n",
      "Epoch 19/25\n",
      "449/449 [==============================] - 71s 159ms/step - loss: 1.1062 - accuracy: 0.5806 - val_loss: 1.0988 - val_accuracy: 0.5865\n",
      "Epoch 20/25\n",
      "449/449 [==============================] - 68s 151ms/step - loss: 1.0978 - accuracy: 0.5854 - val_loss: 1.0900 - val_accuracy: 0.5906\n",
      "Epoch 21/25\n",
      "449/449 [==============================] - 68s 150ms/step - loss: 1.0856 - accuracy: 0.5916 - val_loss: 1.0916 - val_accuracy: 0.5839\n",
      "Epoch 22/25\n",
      "449/449 [==============================] - 68s 152ms/step - loss: 1.0797 - accuracy: 0.5911 - val_loss: 1.0866 - val_accuracy: 0.5954\n",
      "Epoch 23/25\n",
      "449/449 [==============================] - 68s 151ms/step - loss: 1.0684 - accuracy: 0.5974 - val_loss: 1.0931 - val_accuracy: 0.5876\n",
      "Epoch 24/25\n",
      "449/449 [==============================] - 68s 152ms/step - loss: 1.0659 - accuracy: 0.5981 - val_loss: 1.0784 - val_accuracy: 0.5901\n",
      "Epoch 25/25\n",
      "449/449 [==============================] - 69s 154ms/step - loss: 1.0553 - accuracy: 0.6012 - val_loss: 1.0824 - val_accuracy: 0.5957\n"
     ]
    }
   ],
   "source": [
    "# Train the model\n",
    "history = model.fit(\n",
    "    train_generator,\n",
    "    epochs=25,  # Number of epochs can be adjusted\n",
    "    validation_data=test_generator\n",
    ")\n",
    "\n",
    "# Save the trained model\n",
    "model.save('emotion_detection_model.h5')\n"
   ]
  },
  {
   "cell_type": "code",
   "execution_count": 5,
   "id": "e4fb4efa",
   "metadata": {},
   "outputs": [
    {
     "name": "stdout",
     "output_type": "stream",
     "text": [
      "113/113 [==============================] - 21s 183ms/step - loss: 1.0824 - accuracy: 0.5957\n",
      "Test Loss: 1.0824378728866577\n",
      "Test Accuracy: 0.5957090854644775\n"
     ]
    }
   ],
   "source": [
    "# Evaluate the model\n",
    "loss, accuracy = model.evaluate(test_generator)\n",
    "print(f\"Test Loss: {loss}\")\n",
    "print(f\"Test Accuracy: {accuracy}\")\n"
   ]
  },
  {
   "cell_type": "code",
   "execution_count": 9,
   "id": "16a62cc2",
   "metadata": {},
   "outputs": [
    {
     "name": "stdout",
     "output_type": "stream",
     "text": [
      "1/1 [==============================] - 0s 42ms/step\n",
      "Predicted Emotion: Happy\n"
     ]
    }
   ],
   "source": [
    "import numpy as np\n",
    "from tensorflow.keras.preprocessing.image import load_img, img_to_array\n",
    "\n",
    "# Load a test image\n",
    "image_path = 'div.jpg'  # Replace with an actual image path\n",
    "img = load_img(image_path, target_size=(48, 48), color_mode='grayscale')  # FER2013 images are grayscale\n",
    "img_array = img_to_array(img) / 255.0  # Normalize\n",
    "img_array = np.expand_dims(img_array, axis=0)  # Add batch dimension\n",
    "\n",
    "# Predict emotion\n",
    "prediction = model.predict(img_array)\n",
    "emotion_labels = ['Angry', 'Disgust', 'Fear', 'Happy', 'Neutral', 'Sad', 'Surprise']\n",
    "predicted_emotion = emotion_labels[np.argmax(prediction)]\n",
    "\n",
    "# Display result\n",
    "print(f\"Predicted Emotion: {predicted_emotion}\")\n"
   ]
  },
  {
   "cell_type": "code",
   "execution_count": null,
   "id": "fb8d395b",
   "metadata": {},
   "outputs": [],
   "source": []
  }
 ],
 "metadata": {
  "kernelspec": {
   "display_name": "Python 3 (ipykernel)",
   "language": "python",
   "name": "python3"
  },
  "language_info": {
   "codemirror_mode": {
    "name": "ipython",
    "version": 3
   },
   "file_extension": ".py",
   "mimetype": "text/x-python",
   "name": "python",
   "nbconvert_exporter": "python",
   "pygments_lexer": "ipython3",
   "version": "3.9.13"
  }
 },
 "nbformat": 4,
 "nbformat_minor": 5
}
